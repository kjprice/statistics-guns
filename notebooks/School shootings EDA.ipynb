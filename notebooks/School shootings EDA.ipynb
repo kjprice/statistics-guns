{
 "cells": [
  {
   "cell_type": "code",
   "execution_count": 1,
   "metadata": {},
   "outputs": [],
   "source": [
    "import os\n",
    "import requests, re\n",
    "\n",
    "import pandas as pd"
   ]
  },
  {
   "cell_type": "code",
   "execution_count": 2,
   "metadata": {},
   "outputs": [],
   "source": [
    "DATA_DIR = os.path.join('..', 'data')\n",
    "\n",
    "SCHOOL_SHOOTINGS_BEFORE_2000_FILEPATH = os.path.join(DATA_DIR, 'before_20th_century_shootings.csv')\n",
    "SCHOOL_SHOOTINGS_AFTER_2000_FILEPATH = os.path.join(DATA_DIR, '20th_century_school_shootings.csv')\n"
   ]
  },
  {
   "cell_type": "markdown",
   "metadata": {},
   "source": [
    "## Join Data"
   ]
  },
  {
   "cell_type": "code",
   "execution_count": 3,
   "metadata": {},
   "outputs": [],
   "source": [
    "before_2000_df = pd.read_csv(SCHOOL_SHOOTINGS_BEFORE_2000_FILEPATH)\n",
    "after_2000_df = pd.read_csv(SCHOOL_SHOOTINGS_AFTER_2000_FILEPATH)\n",
    "\n",
    "df = pd.concat([before_2000_df, after_2000_df])"
   ]
  },
  {
   "cell_type": "markdown",
   "metadata": {},
   "source": [
    "## Create Features"
   ]
  },
  {
   "cell_type": "code",
   "execution_count": 4,
   "metadata": {},
   "outputs": [
    {
     "data": {
      "text/plain": [
       "'1'"
      ]
     },
     "execution_count": 4,
     "metadata": {},
     "output_type": "execute_result"
    }
   ],
   "source": [
    "def find_shooter_number_in_str(text):\n",
    "    match = re.match('.*(\\d)+\\]', text)\n",
    "    if match:\n",
    "        return match[1]\n",
    "    return 0\n",
    "find_shooter_number_in_str('2[n 1]')\n",
    "# find_shooter_number_in_str('2')"
   ]
  },
  {
   "cell_type": "code",
   "execution_count": 5,
   "metadata": {},
   "outputs": [],
   "source": [
    "reformatted_injuries = df['Injuries'].str.replace('?', '0')\n",
    "numeric_injuries = reformatted_injuries.str.replace('\\D', '')"
   ]
  },
  {
   "cell_type": "code",
   "execution_count": 6,
   "metadata": {},
   "outputs": [],
   "source": [
    "df['Shooter_Deaths'] = df['Deaths'].apply(find_shooter_number_in_str).astype(int)"
   ]
  },
  {
   "cell_type": "code",
   "execution_count": 7,
   "metadata": {},
   "outputs": [],
   "source": [
    "df['Shooter_Injuries'] = df['Injuries'].apply(find_shooter_number_in_str).astype(int)"
   ]
  },
  {
   "cell_type": "code",
   "execution_count": 8,
   "metadata": {},
   "outputs": [],
   "source": [
    "df['Total_Deaths'] = df['Deaths'].apply(lambda d: d.split('[')[0]).astype(int)"
   ]
  },
  {
   "cell_type": "code",
   "execution_count": 9,
   "metadata": {},
   "outputs": [],
   "source": [
    "\n",
    "df['Total_Injuries'] = numeric_injuries.apply(lambda d: d.split('[')[0]).astype(int)"
   ]
  },
  {
   "cell_type": "markdown",
   "metadata": {},
   "source": [
    "## Explore data"
   ]
  },
  {
   "cell_type": "code",
   "execution_count": 11,
   "metadata": {},
   "outputs": [
    {
     "data": {
      "text/html": [
       "<div>\n",
       "<style scoped>\n",
       "    .dataframe tbody tr th:only-of-type {\n",
       "        vertical-align: middle;\n",
       "    }\n",
       "\n",
       "    .dataframe tbody tr th {\n",
       "        vertical-align: top;\n",
       "    }\n",
       "\n",
       "    .dataframe thead th {\n",
       "        text-align: right;\n",
       "    }\n",
       "</style>\n",
       "<table border=\"1\" class=\"dataframe\">\n",
       "  <thead>\n",
       "    <tr style=\"text-align: right;\">\n",
       "      <th></th>\n",
       "      <th>Date</th>\n",
       "      <th>Location</th>\n",
       "      <th>Deaths</th>\n",
       "      <th>Injuries</th>\n",
       "      <th>Description</th>\n",
       "      <th>Shooter_Deaths</th>\n",
       "      <th>Shooter_Injuries</th>\n",
       "      <th>Total_Deaths</th>\n",
       "      <th>Total_Injuries</th>\n",
       "    </tr>\n",
       "  </thead>\n",
       "  <tbody>\n",
       "    <tr>\n",
       "      <th>0</th>\n",
       "      <td>November 12, 1840</td>\n",
       "      <td>Charlottesville, Virginia</td>\n",
       "      <td>1</td>\n",
       "      <td>0</td>\n",
       "      <td>John Anthony Gardner Davis, a law professor at...</td>\n",
       "      <td>0</td>\n",
       "      <td>0</td>\n",
       "      <td>1</td>\n",
       "      <td>0</td>\n",
       "    </tr>\n",
       "    <tr>\n",
       "      <th>1</th>\n",
       "      <td>November 2, 1853</td>\n",
       "      <td>Louisville, Kentucky</td>\n",
       "      <td>1</td>\n",
       "      <td>0</td>\n",
       "      <td>Student Mathews Flounoy Ward shot the schoolma...</td>\n",
       "      <td>0</td>\n",
       "      <td>0</td>\n",
       "      <td>1</td>\n",
       "      <td>0</td>\n",
       "    </tr>\n",
       "  </tbody>\n",
       "</table>\n",
       "</div>"
      ],
      "text/plain": [
       "                Date                   Location Deaths Injuries  \\\n",
       "0  November 12, 1840  Charlottesville, Virginia      1        0   \n",
       "1   November 2, 1853       Louisville, Kentucky      1        0   \n",
       "\n",
       "                                         Description  Shooter_Deaths  \\\n",
       "0  John Anthony Gardner Davis, a law professor at...               0   \n",
       "1  Student Mathews Flounoy Ward shot the schoolma...               0   \n",
       "\n",
       "   Shooter_Injuries  Total_Deaths  Total_Injuries  \n",
       "0                 0             1               0  \n",
       "1                 0             1               0  "
      ]
     },
     "execution_count": 11,
     "metadata": {},
     "output_type": "execute_result"
    }
   ],
   "source": [
    "df.head(n=2)"
   ]
  },
  {
   "cell_type": "code",
   "execution_count": 14,
   "metadata": {},
   "outputs": [],
   "source": [
    "# TODO:\n",
    "# -- Group by decade\n",
    "# -- Sum deaths and plot\n",
    "# -- Add events to chart like AR-15 introduced, etc"
   ]
  }
 ],
 "metadata": {
  "kernelspec": {
   "display_name": "Python 3",
   "language": "python",
   "name": "python3"
  },
  "language_info": {
   "codemirror_mode": {
    "name": "ipython",
    "version": 3
   },
   "file_extension": ".py",
   "mimetype": "text/x-python",
   "name": "python",
   "nbconvert_exporter": "python",
   "pygments_lexer": "ipython3",
   "version": "3.6.8"
  }
 },
 "nbformat": 4,
 "nbformat_minor": 2
}
